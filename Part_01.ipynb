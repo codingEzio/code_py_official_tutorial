{
 "cells": [
  {
   "cell_type": "markdown",
   "metadata": {},
   "source": [
    "https://docs.python.org/3/tutorial/index.html"
   ]
  },
  {
   "cell_type": "code",
   "execution_count": 7,
   "metadata": {},
   "outputs": [
    {
     "data": {
      "text/plain": [
       "256"
      ]
     },
     "execution_count": 7,
     "metadata": {},
     "output_type": "execute_result"
    },
    {
     "data": {
      "text/plain": [
       "0"
      ]
     },
     "execution_count": 7,
     "metadata": {},
     "output_type": "execute_result"
    },
    {
     "data": {
      "text/plain": [
       "-2.5"
      ]
     },
     "execution_count": 7,
     "metadata": {},
     "output_type": "execute_result"
    },
    {
     "data": {
      "text/plain": [
       "0.75"
      ]
     },
     "execution_count": 7,
     "metadata": {},
     "output_type": "execute_result"
    },
    {
     "data": {
      "text/plain": [
       "-3"
      ]
     },
     "execution_count": 7,
     "metadata": {},
     "output_type": "execute_result"
    },
    {
     "data": {
      "text/plain": [
       "0"
      ]
     },
     "execution_count": 7,
     "metadata": {},
     "output_type": "execute_result"
    }
   ],
   "source": [
    "2 << 7 \n",
    "2 >> 7\n",
    "\n",
    "10 / -4\n",
    "3 / 4 \n",
    "\n",
    "10 // -4 \n",
    "3 // 4"
   ]
  },
  {
   "cell_type": "code",
   "execution_count": 15,
   "metadata": {},
   "outputs": [
    {
     "name": "stdout",
     "output_type": "stream",
     "text": [
      "--\n",
      "Oh\n",
      "--\n",
      "C:\\Users\n",
      "Hi\n",
      "    Notice: if you're in a func,\n",
      "    you need to put it in \n",
      "HERE \n",
      "    to make it appear in the starting of the line.\n",
      "\n"
     ]
    }
   ],
   "source": [
    "print('--\\nOh\\n--')  # u can still use \\n in ''\n",
    "print(r'C:\\Users') # r means 'raw'\n",
    "\n",
    "triple_quoted_words = \"\"\"Hi\n",
    "    Notice: if you're in a func,\n",
    "    you need to put it in \n",
    "HERE \n",
    "    to make it appear in the starting of the line.\n",
    "\"\"\"\n",
    "\n",
    "print(triple_quoted_words)"
   ]
  },
  {
   "cell_type": "code",
   "execution_count": 29,
   "metadata": {},
   "outputs": [
    {
     "data": {
      "text/plain": [
       "True"
      ]
     },
     "execution_count": 29,
     "metadata": {},
     "output_type": "execute_result"
    }
   ],
   "source": [
    "constr_useopt = \"Hey \" + \"guys.\"\n",
    "constr_autoadd = \"Hey \" \"guys.\"\n",
    "constr_forlongstr = (\"Hey \"\n",
    "          \"guys.\")\n",
    "constr_doNOTuse = \"Hey \" \\\n",
    "\"guys.\"\n",
    "\n",
    "\n",
    "all((\n",
    "    constr_autoadd,\n",
    "    constr_doNOTuse,\n",
    "    constr_forlongstr,\n",
    "    constr_useopt\n",
    "))"
   ]
  },
  {
   "cell_type": "code",
   "execution_count": 52,
   "metadata": {},
   "outputs": [
    {
     "data": {
      "text/plain": [
       "'Python'"
      ]
     },
     "execution_count": 52,
     "metadata": {},
     "output_type": "execute_result"
    },
    {
     "data": {
      "text/plain": [
       "'nohtyP'"
      ]
     },
     "execution_count": 52,
     "metadata": {},
     "output_type": "execute_result"
    },
    {
     "data": {
      "text/plain": [
       "''"
      ]
     },
     "execution_count": 52,
     "metadata": {},
     "output_type": "execute_result"
    }
   ],
   "source": [
    "word = 'Python'\n",
    "\n",
    "# get reversed val manually \n",
    "word[0:6:1]\n",
    "word[-1:-7:-1]\n",
    "\n",
    "\n",
    "# Slicing\n",
    "#   start+step, \n",
    "#   start+step+step, \n",
    "#   start+step+step+step ...\n",
    "# Examples\n",
    "#   [3]        get to the straight \n",
    "#   [3:0]      get nothing                 3 + 1 != 0 \n",
    "#   [3:0:-1]   like [0:3] but without 0    reversed though\n",
    "\n",
    "word[3:0]\n",
    "\n",
    "\n",
    "try:\n",
    "    word[100]\n",
    "except IndexError: \n",
    "    pass"
   ]
  },
  {
   "cell_type": "code",
   "execution_count": 56,
   "metadata": {},
   "outputs": [],
   "source": [
    "another_word = \"NOT-Mutable\"\n",
    "\n",
    "# another_word[0:4] = \"\"\n",
    "\n",
    "# This one is okay\n",
    "lalala = another_word[0:4] + \"Me\""
   ]
  },
  {
   "cell_type": "code",
   "execution_count": 65,
   "metadata": {},
   "outputs": [
    {
     "data": {
      "text/plain": [
       "[1, 4, 9, 16, 1, 4, 9, 16]"
      ]
     },
     "execution_count": 65,
     "metadata": {},
     "output_type": "execute_result"
    },
    {
     "data": {
      "text/plain": [
       "[2, 8, 18, 32]"
      ]
     },
     "execution_count": 65,
     "metadata": {},
     "output_type": "execute_result"
    }
   ],
   "source": [
    "squares = [ 1, 4, 9 , 16 ]\n",
    "\n",
    "itself   = squares * 2 \n",
    "its_elem = [i*2 for i in squares]\n",
    "\n",
    "# mul 2\n",
    "itself \n",
    "its_elem"
   ]
  },
  {
   "cell_type": "code",
   "execution_count": 3,
   "metadata": {},
   "outputs": [
    {
     "name": "stdout",
     "output_type": "stream",
     "text": [
      "2 is a prime number\n",
      "3 is a prime number\n",
      "4 equals 2 * 2\n",
      "5 is a prime number\n",
      "6 equals 2 * 3\n",
      "7 is a prime number\n",
      "8 equals 2 * 4\n",
      "9 equals 3 * 3\n",
      "10 equals 2 * 5\n",
      "11 is a prime number\n"
     ]
    }
   ],
   "source": [
    "# 6 / 2 \n",
    "#   6 is denominator \n",
    "#   2 is numerator \n",
    "\n",
    "for denominator in range(2,12):\n",
    "    for numerator in range(2,denominator):\n",
    "        if denominator % numerator == 0:\n",
    "            print(denominator,'equals',numerator,'*',denominator//numerator)\n",
    "            break \n",
    "    else:\n",
    "        print(denominator,'is a prime number') "
   ]
  },
  {
   "cell_type": "code",
   "execution_count": 7,
   "metadata": {},
   "outputs": [
    {
     "name": "stdout",
     "output_type": "stream",
     "text": [
      "arg = 5\n",
      "i   = 6\n"
     ]
    }
   ],
   "source": [
    "i = 5\n",
    "\n",
    "def hmm(arg=i):\n",
    "    print('arg =',arg) # formal param | fixed val when i = 5 \n",
    "    print('i   =',i)   # actual param | this can be changed\n",
    "    \n",
    "i = 6\n",
    "\n",
    "hmm()"
   ]
  },
  {
   "cell_type": "code",
   "execution_count": 35,
   "metadata": {},
   "outputs": [
    {
     "data": {
      "text/plain": [
       "[1]"
      ]
     },
     "execution_count": 35,
     "metadata": {},
     "output_type": "execute_result"
    },
    {
     "data": {
      "text/plain": [
       "[1, 2]"
      ]
     },
     "execution_count": 35,
     "metadata": {},
     "output_type": "execute_result"
    }
   ],
   "source": [
    "def f(a,L=[]):\n",
    "    L.append(a)\n",
    "    return L\n",
    "\n",
    "f(1)\n",
    "f(2) # Hmm, it's a list!"
   ]
  },
  {
   "cell_type": "code",
   "execution_count": 36,
   "metadata": {},
   "outputs": [
    {
     "data": {
      "text/plain": [
       "[1]"
      ]
     },
     "execution_count": 36,
     "metadata": {},
     "output_type": "execute_result"
    },
    {
     "data": {
      "text/plain": [
       "[2]"
      ]
     },
     "execution_count": 36,
     "metadata": {},
     "output_type": "execute_result"
    }
   ],
   "source": [
    "def ft(a,L=None):\n",
    "    if L is None:\n",
    "        L = [] \n",
    "    L.append(a)\n",
    "    return L\n",
    "\n",
    "ft(1)\n",
    "ft(2)"
   ]
  },
  {
   "cell_type": "code",
   "execution_count": 52,
   "metadata": {},
   "outputs": [
    {
     "data": {
      "text/plain": [
       "'one-two-three'"
      ]
     },
     "execution_count": 52,
     "metadata": {},
     "output_type": "execute_result"
    },
    {
     "data": {
      "text/plain": [
       "'666'"
      ]
     },
     "execution_count": 52,
     "metadata": {},
     "output_type": "execute_result"
    }
   ],
   "source": [
    "def concat(*args,sep='-'):\n",
    "    return sep.join(args) # str only\n",
    "\n",
    "concat(\"one\",\"two\",\"three\")\n",
    "concat(\"6\",\"6\",\"6\",sep='')"
   ]
  },
  {
   "cell_type": "code",
   "execution_count": 54,
   "metadata": {},
   "outputs": [
    {
     "data": {
      "text/plain": [
       "100"
      ]
     },
     "execution_count": 54,
     "metadata": {},
     "output_type": "execute_result"
    },
    {
     "data": {
      "text/plain": [
       "900"
      ]
     },
     "execution_count": 54,
     "metadata": {},
     "output_type": "execute_result"
    }
   ],
   "source": [
    "def make_power(n):\n",
    "    return lambda x: x**n\n",
    "\n",
    "pow2 = make_power(2)\n",
    "\n",
    "pow2(10)\n",
    "pow2(30)"
   ]
  }
 ],
 "metadata": {
  "kernelspec": {
   "display_name": "Python 3",
   "language": "python",
   "name": "python3"
  },
  "language_info": {
   "codemirror_mode": {
    "name": "ipython",
    "version": 3
   },
   "file_extension": ".py",
   "mimetype": "text/x-python",
   "name": "python",
   "nbconvert_exporter": "python",
   "pygments_lexer": "ipython3",
   "version": "3.6.5"
  }
 },
 "nbformat": 4,
 "nbformat_minor": 2
}

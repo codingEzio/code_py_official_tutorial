{
 "cells": [
  {
   "cell_type": "markdown",
   "metadata": {},
   "source": [
    "<hr>"
   ]
  },
  {
   "cell_type": "code",
   "execution_count": null,
   "metadata": {},
   "outputs": [],
   "source": [
    "import sys\n",
    "\n",
    "sys.path  # importing priority\n",
    "sys.argv  # a list for cmd param"
   ]
  },
  {
   "cell_type": "code",
   "execution_count": 13,
   "metadata": {},
   "outputs": [],
   "source": [
    "# \"compiled\" python files \n",
    "\n",
    "what_is_pyc = \"\"\" \n",
    "    format    __pycache__/FILE.VERSION.pyc \n",
    "    faster?   NO! It's just for 'Loaded' (import)\n",
    "\"\"\""
   ]
  },
  {
   "cell_type": "code",
   "execution_count": 15,
   "metadata": {},
   "outputs": [],
   "source": [
    "import builtins \n",
    "\n",
    "dirs = \"\"\"\n",
    "    dir()            # the names you'v defined currently \n",
    "    dir(builtins)    # see above, it's all about BIT methods (and const)\n",
    "\"\"\""
   ]
  },
  {
   "cell_type": "markdown",
   "metadata": {},
   "source": [
    "<hr>"
   ]
  },
  {
   "cell_type": "markdown",
   "metadata": {},
   "source": [
    "### string format"
   ]
  },
  {
   "cell_type": "code",
   "execution_count": 32,
   "metadata": {},
   "outputs": [
    {
     "name": "stdout",
     "output_type": "stream",
     "text": [
      "onetwothree is 1234\n",
      "'hello, repr\\n'\n",
      "(10, 20, 'aha')\n"
     ]
    }
   ],
   "source": [
    "x,y = 10,20\n",
    "\n",
    "print(\n",
    "    'onetwothree ' + 'is ' + repr(1234),  # concat \n",
    "    repr('hello, repr\\n'),                # retaining format \n",
    "    repr((x,y,('aha'))),                  # unpacking values\n",
    "    sep='\\n'\n",
    ")"
   ]
  },
  {
   "cell_type": "code",
   "execution_count": 33,
   "metadata": {},
   "outputs": [
    {
     "name": "stdout",
     "output_type": "stream",
     "text": [
      " 1   1    1     1\n",
      " 2   4    8    16\n",
      " 3   9   27    81\n",
      " 4  16   64   256\n",
      " 5  25  125   625\n"
     ]
    }
   ],
   "source": [
    "for x in range(1,6):\n",
    "    print('{0:2d} {1:3d} {2:4d} {3:5d}'.format(\n",
    "        x, x**2, x**3, x**4\n",
    "    ))"
   ]
  },
  {
   "cell_type": "code",
   "execution_count": 75,
   "metadata": {},
   "outputs": [
    {
     "data": {
      "text/plain": [
       "'one two'"
      ]
     },
     "execution_count": 75,
     "metadata": {},
     "output_type": "execute_result"
    },
    {
     "data": {
      "text/plain": [
       "'one two'"
      ]
     },
     "execution_count": 75,
     "metadata": {},
     "output_type": "execute_result"
    },
    {
     "data": {
      "text/plain": [
       "'two one'"
      ]
     },
     "execution_count": 75,
     "metadata": {},
     "output_type": "execute_result"
    },
    {
     "data": {
      "text/plain": [
       "'50 humans'"
      ]
     },
     "execution_count": 75,
     "metadata": {},
     "output_type": "execute_result"
    },
    {
     "data": {
      "text/plain": [
       "'zero three happy'"
      ]
     },
     "execution_count": 75,
     "metadata": {},
     "output_type": "execute_result"
    },
    {
     "data": {
      "text/plain": [
       "'{} and {!s} is the same.'"
      ]
     },
     "execution_count": 75,
     "metadata": {},
     "output_type": "execute_result"
    },
    {
     "data": {
      "text/plain": [
       "\"'{!r} is like repr(a_string)'\""
      ]
     },
     "execution_count": 75,
     "metadata": {},
     "output_type": "execute_result"
    },
    {
     "data": {
      "text/plain": [
       "'the Pi is approximately 3.14'"
      ]
     },
     "execution_count": 75,
     "metadata": {},
     "output_type": "execute_result"
    }
   ],
   "source": [
    "'{} {}'.format('one','two')\n",
    "\n",
    "'{0} {1}'.format('one','two')\n",
    "'{1} {0}'.format('one','two')\n",
    "\n",
    "'{amount} {kind}'.format(amount=50,kind='humans')\n",
    "'{0} {2} {mood}'.format('zero','null','three',mood='happy')\n",
    "\n",
    "'{!s}'.format('{} and {!s} is the same.')\n",
    "'{!r}'.format('{!r} is like repr(a_string)')\n",
    "\n",
    "'the Pi is approximately {:.2f}'.format(3.14159)"
   ]
  },
  {
   "cell_type": "code",
   "execution_count": 74,
   "metadata": {},
   "outputs": [
    {
     "data": {
      "text/plain": [
       "'the Pi is approximately 3.14'"
      ]
     },
     "execution_count": 74,
     "metadata": {},
     "output_type": "execute_result"
    },
    {
     "name": "stdout",
     "output_type": "stream",
     "text": [
      "last-name       'Faris'    \n",
      "first-name      'Alexander' \n",
      "middle-name     'J.'       \n"
     ]
    }
   ],
   "source": [
    "table = {'first-name':'Alexander','middle-name':'J.','last-name':'Faris'}\n",
    "\n",
    "for k,v in table.items():\n",
    "    print('{0:15} {1!r:10} '.format(k,v))\n",
    "    \n",
    "print(\n",
    "    ''\n",
    ")"
   ]
  },
  {
   "cell_type": "markdown",
   "metadata": {},
   "source": [
    "<hr>"
   ]
  },
  {
   "cell_type": "markdown",
   "metadata": {},
   "source": [
    "### error handling"
   ]
  },
  {
   "cell_type": "code",
   "execution_count": 3,
   "metadata": {},
   "outputs": [
    {
     "data": {
      "text/plain": [
       "(ZeroDivisionError('division by zero'),)"
      ]
     },
     "execution_count": 3,
     "metadata": {},
     "output_type": "execute_result"
    },
    {
     "data": {
      "text/plain": [
       "(('division by zero',),)"
      ]
     },
     "execution_count": 3,
     "metadata": {},
     "output_type": "execute_result"
    },
    {
     "data": {
      "text/plain": [
       "ZeroDivisionError"
      ]
     },
     "execution_count": 3,
     "metadata": {},
     "output_type": "execute_result"
    },
    {
     "data": {
      "text/plain": [
       "('type', ZeroDivisionError)"
      ]
     },
     "execution_count": 3,
     "metadata": {},
     "output_type": "execute_result"
    },
    {
     "data": {
      "text/plain": [
       "('value', ZeroDivisionError('division by zero'))"
      ]
     },
     "execution_count": 3,
     "metadata": {},
     "output_type": "execute_result"
    },
    {
     "data": {
      "text/plain": [
       "('traceback', <traceback at 0x10ef836c8>)"
      ]
     },
     "execution_count": 3,
     "metadata": {},
     "output_type": "execute_result"
    }
   ],
   "source": [
    "import sys\n",
    "\n",
    "\n",
    "try:\n",
    "    10 / 0\n",
    "except (SyntaxError,ZeroDivisionError) as e:\n",
    "    \n",
    "    e,\n",
    "    e.args,\n",
    "    e.__class__  # same result as type(e)\n",
    "    \n",
    "    'type', sys.exc_info()[0]\n",
    "    'value', sys.exc_info()[1]\n",
    "    'traceback', sys.exc_info()[2]"
   ]
  },
  {
   "cell_type": "code",
   "execution_count": 12,
   "metadata": {},
   "outputs": [
    {
     "name": "stdout",
     "output_type": "stream",
     "text": [
      "Unexpected Error!\n"
     ]
    },
    {
     "data": {
      "text/plain": [
       "[ZeroDivisionError,\n",
       " ZeroDivisionError('division by zero'),\n",
       " <traceback at 0x10ef9f4c8>]"
      ]
     },
     "execution_count": 12,
     "metadata": {},
     "output_type": "execute_result"
    }
   ],
   "source": [
    "try: \n",
    "    10 / 0\n",
    "except ValueError:\n",
    "    pass\n",
    "except TypeError:\n",
    "    pass\n",
    "except:\n",
    "    print(\"Unexpected Error!\")\n",
    "    [ err for err in sys.exc_info() ]"
   ]
  },
  {
   "cell_type": "code",
   "execution_count": 19,
   "metadata": {},
   "outputs": [],
   "source": [
    "def this_fails():\n",
    "    x = 10 / 0\n",
    "    \n",
    "try:\n",
    "    this_fails()  \n",
    "except ZeroDivisionError as e:\n",
    "    pass"
   ]
  },
  {
   "cell_type": "code",
   "execution_count": 31,
   "metadata": {},
   "outputs": [
    {
     "name": "stdout",
     "output_type": "stream",
     "text": [
      "lalala\n"
     ]
    }
   ],
   "source": [
    "try:\n",
    "    raise NameError('raise-it-by-yourself')\n",
    "except NameError:\n",
    "    print('lalala')\n",
    "    \n",
    "    # re-raise the exception (NameError)\n",
    "    # raise  "
   ]
  },
  {
   "cell_type": "code",
   "execution_count": 41,
   "metadata": {},
   "outputs": [
    {
     "data": {
      "text/plain": [
       "[__main__.InputError,\n",
       " __main__.InputError('what-u-input', 'blabla...'),\n",
       " <traceback at 0x10efd5c48>]"
      ]
     },
     "execution_count": 41,
     "metadata": {},
     "output_type": "execute_result"
    }
   ],
   "source": [
    "from sys import exc_info\n",
    "\n",
    "\n",
    "class Error(Exception):\n",
    "    \"\"\" Base class for exceptions in this module (sort of) \"\"\"\n",
    "    pass\n",
    "\n",
    "\n",
    "class InputError(Error):\n",
    "    \"\"\" Exception raised for errors in the input (hmm..) \n",
    "    \n",
    "    Attributes:\n",
    "        expression  -- what you input  \n",
    "        message     -- error msg\n",
    "    \"\"\"\n",
    "    \n",
    "    def __init__(self,expression,message):\n",
    "        self.expression = expression \n",
    "        self.message = message\n",
    "\n",
    "        \n",
    "try:\n",
    "    raise InputError('what-u-input','blabla...')\n",
    "except:\n",
    "    [ i for i in exc_info() ]"
   ]
  },
  {
   "cell_type": "code",
   "execution_count": 46,
   "metadata": {},
   "outputs": [
    {
     "name": "stdout",
     "output_type": "stream",
     "text": [
      "Result: 2.0\n",
      "Complete!\n"
     ]
    }
   ],
   "source": [
    "# one more example :)\n",
    "\n",
    "try:\n",
    "    result = 10 / 5\n",
    "except ZeroDivisionError:\n",
    "    pass\n",
    "else:\n",
    "    print(\"Result:\",result)\n",
    "finally:\n",
    "    print('Complete!')"
   ]
  }
 ],
 "metadata": {
  "kernelspec": {
   "display_name": "Python 3",
   "language": "python",
   "name": "python3"
  },
  "language_info": {
   "codemirror_mode": {
    "name": "ipython",
    "version": 3
   },
   "file_extension": ".py",
   "mimetype": "text/x-python",
   "name": "python",
   "nbconvert_exporter": "python",
   "pygments_lexer": "ipython3",
   "version": "3.6.5"
  }
 },
 "nbformat": 4,
 "nbformat_minor": 2
}

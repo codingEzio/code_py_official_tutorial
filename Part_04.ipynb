{
 "cells": [
  {
   "cell_type": "markdown",
   "metadata": {},
   "source": [
    "#### Scope"
   ]
  },
  {
   "cell_type": "markdown",
   "metadata": {},
   "source": [
    "- A namespace is a mapping from names to objects. \n",
    "- Most namespaces are currently implemented as Python dictionaries, \n",
    " > but that’s normally not noticeable in any way (except for performance), <br>and it may change in the future."
   ]
  },
  {
   "cell_type": "code",
   "execution_count": 1,
   "metadata": {},
   "outputs": [
    {
     "name": "stdout",
     "output_type": "stream",
     "text": [
      "After local assignment : test spam\n",
      "After nonlocal assignment : nonlocal spam\n",
      "After global assignment : nonlocal spam\n",
      "In global scope : global spam\n"
     ]
    }
   ],
   "source": [
    "def scope_test():\n",
    "    \n",
    "    def do_local():\n",
    "        spam = \"local spam\" # only exists in this function\n",
    "        \n",
    "    def do_nonlocal():\n",
    "        nonlocal spam       # alter the outer 'spam' (\"test spam\")\n",
    "        spam = \"nonlocal spam\"              \n",
    "        \n",
    "    def do_global():\n",
    "        global spam         # make it as an outermost 'spam' (module-level)\n",
    "        spam = \"global spam\"                \n",
    "    \n",
    "    spam = \"test spam\"      # same level as 'nonlocal spam'\n",
    "    \n",
    "    do_local()\n",
    "    print('After local assignment :',spam)     # \"test spam\"\n",
    "    \n",
    "    do_nonlocal()\n",
    "    print(\"After nonlocal assignment :\",spam)  # \"nonlocal spam\"\n",
    "    \n",
    "    do_global()\n",
    "    print(\"After global assignment :\",spam)    # \"nonlocal spam \"\n",
    "    \n",
    "\n",
    "scope_test()\n",
    "print(\"In global scope :\",spam)                # \"global spam\""
   ]
  },
  {
   "cell_type": "markdown",
   "metadata": {},
   "source": [
    "#### Class"
   ]
  },
  {
   "cell_type": "code",
   "execution_count": 2,
   "metadata": {},
   "outputs": [
    {
     "data": {
      "text/plain": [
       "(3.0,)"
      ]
     },
     "execution_count": 2,
     "metadata": {},
     "output_type": "execute_result"
    },
    {
     "data": {
      "text/plain": [
       "-2.1"
      ]
     },
     "execution_count": 2,
     "metadata": {},
     "output_type": "execute_result"
    },
    {
     "data": {
      "text/plain": [
       "'hello'"
      ]
     },
     "execution_count": 2,
     "metadata": {},
     "output_type": "execute_result"
    },
    {
     "data": {
      "text/plain": [
       "'hello'"
      ]
     },
     "execution_count": 2,
     "metadata": {},
     "output_type": "execute_result"
    },
    {
     "data": {
      "text/plain": [
       "__main__.Complex"
      ]
     },
     "execution_count": 2,
     "metadata": {},
     "output_type": "execute_result"
    },
    {
     "data": {
      "text/plain": [
       "__main__.Complex"
      ]
     },
     "execution_count": 2,
     "metadata": {},
     "output_type": "execute_result"
    }
   ],
   "source": [
    "class Complex:\n",
    "    def __init__(self,realpart,imagpart):\n",
    "        self.r = realpart \n",
    "        self.i = imagpart \n",
    "        \n",
    "    def gretting(self):\n",
    "        return 'hello'\n",
    "        \n",
    "\n",
    "x = Complex(3.0,-2.1)\n",
    "\n",
    "x.r, \n",
    "x.i\n",
    "\n",
    "# In general, calling a method with a list of n arguments \n",
    "#   is equivalent to calling the corresponding function with an argument list \n",
    "#     that is created by inserting the method’s instance object before the first argument.\n",
    "x.gretting()\n",
    "Complex.gretting(x)\n",
    "\n",
    "x.__class__\n",
    "type(x)"
   ]
  },
  {
   "cell_type": "code",
   "execution_count": 3,
   "metadata": {},
   "outputs": [
    {
     "data": {
      "text/plain": [
       "True"
      ]
     },
     "execution_count": 3,
     "metadata": {},
     "output_type": "execute_result"
    },
    {
     "data": {
      "text/plain": [
       "True"
      ]
     },
     "execution_count": 3,
     "metadata": {},
     "output_type": "execute_result"
    },
    {
     "data": {
      "text/plain": [
       "True"
      ]
     },
     "execution_count": 3,
     "metadata": {},
     "output_type": "execute_result"
    },
    {
     "data": {
      "text/plain": [
       "True"
      ]
     },
     "execution_count": 3,
     "metadata": {},
     "output_type": "execute_result"
    },
    {
     "data": {
      "text/plain": [
       "True"
      ]
     },
     "execution_count": 3,
     "metadata": {},
     "output_type": "execute_result"
    }
   ],
   "source": [
    "\"s\".__class__ ==  str     == type(\"s\") \n",
    "x.__class__   ==  Complex == type(x) \n",
    "\n",
    "isinstance(\"s\",str)\n",
    "isinstance(x,Complex)\n",
    "\n",
    "isinstance(10,(int,str,bool))"
   ]
  },
  {
   "cell_type": "code",
   "execution_count": 4,
   "metadata": {},
   "outputs": [
    {
     "data": {
      "text/plain": [
       "True"
      ]
     },
     "execution_count": 4,
     "metadata": {},
     "output_type": "execute_result"
    },
    {
     "data": {
      "text/plain": [
       "True"
      ]
     },
     "execution_count": 4,
     "metadata": {},
     "output_type": "execute_result"
    }
   ],
   "source": [
    "issubclass(bool,int)\n",
    "issubclass(True.__class__,type(10))  # just-for-fun"
   ]
  },
  {
   "cell_type": "markdown",
   "metadata": {},
   "source": [
    "#### Private Variables"
   ]
  },
  {
   "cell_type": "code",
   "execution_count": 5,
   "metadata": {},
   "outputs": [
    {
     "data": {
      "text/plain": [
       "'hey'"
      ]
     },
     "execution_count": 5,
     "metadata": {},
     "output_type": "execute_result"
    },
    {
     "data": {
      "text/plain": [
       "'hello'"
      ]
     },
     "execution_count": 5,
     "metadata": {},
     "output_type": "execute_result"
    }
   ],
   "source": [
    "class Mapping:\n",
    "    \"\"\"\n",
    "    It should be considered \n",
    "        an implementation detail and subject to change without notice. \n",
    "        \n",
    "    It is a valid use-case for class-private members \n",
    "        (namely to avoid name clashes of names with names defined by subclasses).\n",
    "        \n",
    "    The '__greet' will turn into '_Mapping__greet',\n",
    "        to be precise, that is   \"_Classname__Var\"\n",
    "    \"\"\"\n",
    "    \n",
    "    greet = 'hey'\n",
    "    __greet = 'hello'\n",
    "\n",
    "ha = Mapping()\n",
    "\n",
    "ha.greet\n",
    "ha._Mapping__greet\n"
   ]
  },
  {
   "cell_type": "code",
   "execution_count": 6,
   "metadata": {},
   "outputs": [
    {
     "data": {
      "text/plain": [
       "(10, 20)"
      ]
     },
     "execution_count": 6,
     "metadata": {},
     "output_type": "execute_result"
    }
   ],
   "source": [
    "class Blank:\n",
    "    pass\n",
    "\n",
    "\n",
    "blan = Blank()\n",
    "\n",
    "blan.x = 10\n",
    "blan.y = 20\n",
    "\n",
    "blan.x, blan.y"
   ]
  },
  {
   "cell_type": "markdown",
   "metadata": {},
   "source": [
    "#### Iterators"
   ]
  },
  {
   "cell_type": "code",
   "execution_count": 7,
   "metadata": {},
   "outputs": [
    {
     "name": "stdout",
     "output_type": "stream",
     "text": [
      "1\n",
      "(2, 3)\n",
      "s t r - f o r - i t e r "
     ]
    }
   ],
   "source": [
    "for i in [1,(2,3)]:\n",
    "    print(i)\n",
    "\n",
    "for i in \"str-for-iter\":\n",
    "    print(i, end=' ')\n",
    "    \n",
    "# also, there's 'dict' and file object"
   ]
  },
  {
   "cell_type": "code",
   "execution_count": 8,
   "metadata": {},
   "outputs": [
    {
     "data": {
      "text/plain": [
       "<str_iterator at 0x10754d3c8>"
      ]
     },
     "execution_count": 8,
     "metadata": {},
     "output_type": "execute_result"
    },
    {
     "data": {
      "text/plain": [
       "'a'"
      ]
     },
     "execution_count": 8,
     "metadata": {},
     "output_type": "execute_result"
    },
    {
     "data": {
      "text/plain": [
       "'b'"
      ]
     },
     "execution_count": 8,
     "metadata": {},
     "output_type": "execute_result"
    },
    {
     "data": {
      "text/plain": [
       "'c'"
      ]
     },
     "execution_count": 8,
     "metadata": {},
     "output_type": "execute_result"
    }
   ],
   "source": [
    "s = 'abc'\n",
    "it = iter(s)           # Stage One\n",
    "\n",
    "it\n",
    "\n",
    "next(it)               # Stage Two\n",
    "next(it)\n",
    "next(it)\n",
    "\n",
    "try:\n",
    "    next(it)\n",
    "except StopIteration:  # Stage Three\n",
    "    pass"
   ]
  },
  {
   "cell_type": "code",
   "execution_count": 9,
   "metadata": {},
   "outputs": [
    {
     "data": {
      "text/plain": [
       "'4'"
      ]
     },
     "execution_count": 9,
     "metadata": {},
     "output_type": "execute_result"
    },
    {
     "data": {
      "text/plain": [
       "'3'"
      ]
     },
     "execution_count": 9,
     "metadata": {},
     "output_type": "execute_result"
    },
    {
     "data": {
      "text/plain": [
       "'2'"
      ]
     },
     "execution_count": 9,
     "metadata": {},
     "output_type": "execute_result"
    },
    {
     "data": {
      "text/plain": [
       "'1'"
      ]
     },
     "execution_count": 9,
     "metadata": {},
     "output_type": "execute_result"
    }
   ],
   "source": [
    "class Reverse:\n",
    "    \"\"\" Iterator for looping over a seq backwards. \"\"\"\n",
    "    def __init__(self,data):\n",
    "        self.data = data               # '1234'\n",
    "        self.index = len(data)         # 4\n",
    "        \n",
    "    def __iter__(self):\n",
    "        return self\n",
    "    \n",
    "    def __next__(self):\n",
    "        if self.index == 0:            # waiting for the final one XD\n",
    "            raise StopIteration\n",
    "        self.index = self.index - 1    # given the correct index \n",
    "        return self.data[self.index]   # return value \n",
    "    \n",
    "\n",
    "rev = Reverse(\"1234\")\n",
    "\n",
    "for i in rev: \n",
    "    i"
   ]
  },
  {
   "cell_type": "markdown",
   "metadata": {},
   "source": [
    "#### Generators"
   ]
  },
  {
   "cell_type": "markdown",
   "metadata": {},
   "source": [
    "> Generators are a simple and powerful tool for creating iterators. \n",
    "\n",
    "> They are written like regular functions <br>but use the yield statement whenever they want to return data."
   ]
  },
  {
   "cell_type": "code",
   "execution_count": 10,
   "metadata": {},
   "outputs": [],
   "source": [
    "# hey, about the 'range'\n",
    "#   len(data)-1     correcting index for access value \n",
    "#            -1     to the last character\n",
    "#            -1     step value, get down to the last\n",
    "\n",
    "def reverse(data):\n",
    "    for index in range(len(data)-1,-1,-1):\n",
    "        yield data[index]"
   ]
  },
  {
   "cell_type": "code",
   "execution_count": 14,
   "metadata": {},
   "outputs": [
    {
     "data": {
      "text/plain": [
       "'t'"
      ]
     },
     "execution_count": 14,
     "metadata": {},
     "output_type": "execute_result"
    },
    {
     "data": {
      "text/plain": [
       "'a'"
      ]
     },
     "execution_count": 14,
     "metadata": {},
     "output_type": "execute_result"
    },
    {
     "data": {
      "text/plain": [
       "'h'"
      ]
     },
     "execution_count": 14,
     "metadata": {},
     "output_type": "execute_result"
    },
    {
     "data": {
      "text/plain": [
       "'w'"
      ]
     },
     "execution_count": 14,
     "metadata": {},
     "output_type": "execute_result"
    }
   ],
   "source": [
    "for char in reverse('what'):\n",
    "    char"
   ]
  },
  {
   "cell_type": "code",
   "execution_count": 23,
   "metadata": {},
   "outputs": [
    {
     "data": {
      "text/plain": [
       "[1, 1, 4, 27, 256, 3125, 46656, 823543, 16777216, 387420489]"
      ]
     },
     "execution_count": 23,
     "metadata": {},
     "output_type": "execute_result"
    },
    {
     "data": {
      "text/plain": [
       "<generator object <genexpr> at 0x107526e08>"
      ]
     },
     "execution_count": 23,
     "metadata": {},
     "output_type": "execute_result"
    }
   ],
   "source": [
    "# load (or cal) them all at once (in the memory)\n",
    "[ i**i for i in range(10) ]\n",
    "\n",
    "# generator don't \"do\" that, it only exec when u need it\n",
    "# of course, it uses less memory (and improve performances)\n",
    "( i**i for i in range(10) )"
   ]
  },
  {
   "cell_type": "markdown",
   "metadata": {},
   "source": [
    "> In addition to automatic method creation and saving program state, <br>when generators terminate, they automatically raise StopIteration. \n",
    "\n",
    "> In combination, these features make it easy to <br>create iterators with no more effort than writing a regular function."
   ]
  },
  {
   "cell_type": "markdown",
   "metadata": {},
   "source": [
    "#### Generator Expressions"
   ]
  },
  {
   "cell_type": "code",
   "execution_count": 24,
   "metadata": {},
   "outputs": [
    {
     "data": {
      "text/plain": [
       "41654167500"
      ]
     },
     "execution_count": 24,
     "metadata": {},
     "output_type": "execute_result"
    },
    {
     "data": {
      "text/plain": [
       "140"
      ]
     },
     "execution_count": 24,
     "metadata": {},
     "output_type": "execute_result"
    }
   ],
   "source": [
    "sum(\n",
    "    i*i for i in range(5000)\n",
    ")\n",
    "\n",
    "xv,yv = [10,20,30],[1,2,3]\n",
    "\n",
    "sum(\n",
    "    x*y for x,y in zip(xv,yv)\n",
    ")"
   ]
  },
  {
   "cell_type": "code",
   "execution_count": 25,
   "metadata": {},
   "outputs": [
    {
     "data": {
      "text/plain": [
       "0.0"
      ]
     },
     "execution_count": 25,
     "metadata": {},
     "output_type": "execute_result"
    },
    {
     "data": {
      "text/plain": [
       "1.0"
      ]
     },
     "execution_count": 25,
     "metadata": {},
     "output_type": "execute_result"
    }
   ],
   "source": [
    "from math import pi, sin\n",
    "\n",
    "sine_table = { x: sin(x*pi/180) for x in range(0,91) }\n",
    "\n",
    "sine_table[0]\n",
    "sine_table[90]"
   ]
  }
 ],
 "metadata": {
  "kernelspec": {
   "display_name": "Python 3",
   "language": "python",
   "name": "python3"
  },
  "language_info": {
   "codemirror_mode": {
    "name": "ipython",
    "version": 3
   },
   "file_extension": ".py",
   "mimetype": "text/x-python",
   "name": "python",
   "nbconvert_exporter": "python",
   "pygments_lexer": "ipython3",
   "version": "3.6.5"
  }
 },
 "nbformat": 4,
 "nbformat_minor": 2
}
